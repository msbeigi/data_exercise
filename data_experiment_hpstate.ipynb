{
 "metadata": {
  "language_info": {
   "codemirror_mode": {
    "name": "ipython",
    "version": 3
   },
   "file_extension": ".py",
   "mimetype": "text/x-python",
   "name": "python",
   "nbconvert_exporter": "python",
   "pygments_lexer": "ipython3",
   "version": "3.9.5"
  },
  "orig_nbformat": 4,
  "kernelspec": {
   "name": "python3",
   "display_name": "Python 3.9.5 64-bit"
  },
  "interpreter": {
   "hash": "06cb67651ce969e244f20f184e33f4ddb1106793adfe07cf7ddc131c95c4012f"
  }
 },
 "nbformat": 4,
 "nbformat_minor": 2,
 "cells": [
  {
   "cell_type": "code",
   "execution_count": 176,
   "metadata": {},
   "outputs": [],
   "source": [
    "import json\n",
    "import pandas as pd\n",
    "import datetime\n",
    "import matplotlib.pyplot as plt\n",
    "import os\n",
    "import numpy as np\n",
    "import csv as csv\n",
    "from sklearn.linear_model import LinearRegression\n",
    "from sklearn.model_selection import train_test_split                                 "
   ]
  },
  {
   "cell_type": "code",
   "execution_count": 3,
   "metadata": {},
   "outputs": [
    {
     "output_type": "execute_result",
     "data": {
      "text/plain": [
       "      Unnamed: 0 capture_time     heading date_time  sequence_number  \\\n",
       "0              0      25:00.0  -17.425865   24:51.7           677026   \n",
       "1              1      25:00.1  -17.478781   24:51.8           677027   \n",
       "2              2      25:00.2  -17.479210   24:51.9           677028   \n",
       "3              3      25:00.3  -17.544945   24:52.0           677029   \n",
       "4              4      25:00.4  -17.618170   24:52.1           677030   \n",
       "...          ...          ...         ...       ...              ...   \n",
       "5661        5661      34:34.2 -136.196198   34:25.9           682687   \n",
       "5662        5662      34:34.3 -136.644287   34:26.0           682688   \n",
       "5663        5663      34:34.4 -137.088745   34:26.1           682689   \n",
       "5664        5664      34:34.5 -137.479034   34:26.2           682690   \n",
       "5665        5665      34:34.6 -137.810867   34:26.3           682691   \n",
       "\n",
       "          roll      pitch       height   latitude   longitude  \\\n",
       "0     0.516578 -48.354008  1713.492337  49.726845 -114.798926   \n",
       "1     0.584451 -47.634618  1713.599990  49.726847 -114.798926   \n",
       "2     0.638639 -46.931638  1713.698169  49.726848 -114.798927   \n",
       "3     0.661536 -46.279095  1713.793497  49.726849 -114.798928   \n",
       "4     0.709778 -45.542828  1713.901479  49.726850 -114.798929   \n",
       "...        ...        ...          ...        ...         ...   \n",
       "5661  0.985247   7.438396  1725.821861  49.726587 -114.799174   \n",
       "5662  0.938363   7.981765  1725.954983  49.726587 -114.799172   \n",
       "5663  0.893205   8.530322  1726.086585  49.726586 -114.799170   \n",
       "5664  0.856316   9.090152  1726.211577  49.726586 -114.799168   \n",
       "5665  0.820646   9.650592  1726.342336  49.726585 -114.799166   \n",
       "\n",
       "     time_without_microsecond    id  \n",
       "0             4/14/2021 12:24     0  \n",
       "1             4/14/2021 12:24     1  \n",
       "2             4/14/2021 12:24     2  \n",
       "3             4/14/2021 12:24     3  \n",
       "4             4/14/2021 12:24     4  \n",
       "...                       ...   ...  \n",
       "5661          4/14/2021 12:34  5661  \n",
       "5662          4/14/2021 12:34  5662  \n",
       "5663          4/14/2021 12:34  5663  \n",
       "5664          4/14/2021 12:34  5664  \n",
       "5665          4/14/2021 12:34  5665  \n",
       "\n",
       "[5666 rows x 12 columns]"
      ],
      "text/html": "<div>\n<style scoped>\n    .dataframe tbody tr th:only-of-type {\n        vertical-align: middle;\n    }\n\n    .dataframe tbody tr th {\n        vertical-align: top;\n    }\n\n    .dataframe thead th {\n        text-align: right;\n    }\n</style>\n<table border=\"1\" class=\"dataframe\">\n  <thead>\n    <tr style=\"text-align: right;\">\n      <th></th>\n      <th>Unnamed: 0</th>\n      <th>capture_time</th>\n      <th>heading</th>\n      <th>date_time</th>\n      <th>sequence_number</th>\n      <th>roll</th>\n      <th>pitch</th>\n      <th>height</th>\n      <th>latitude</th>\n      <th>longitude</th>\n      <th>time_without_microsecond</th>\n      <th>id</th>\n    </tr>\n  </thead>\n  <tbody>\n    <tr>\n      <th>0</th>\n      <td>0</td>\n      <td>25:00.0</td>\n      <td>-17.425865</td>\n      <td>24:51.7</td>\n      <td>677026</td>\n      <td>0.516578</td>\n      <td>-48.354008</td>\n      <td>1713.492337</td>\n      <td>49.726845</td>\n      <td>-114.798926</td>\n      <td>4/14/2021 12:24</td>\n      <td>0</td>\n    </tr>\n    <tr>\n      <th>1</th>\n      <td>1</td>\n      <td>25:00.1</td>\n      <td>-17.478781</td>\n      <td>24:51.8</td>\n      <td>677027</td>\n      <td>0.584451</td>\n      <td>-47.634618</td>\n      <td>1713.599990</td>\n      <td>49.726847</td>\n      <td>-114.798926</td>\n      <td>4/14/2021 12:24</td>\n      <td>1</td>\n    </tr>\n    <tr>\n      <th>2</th>\n      <td>2</td>\n      <td>25:00.2</td>\n      <td>-17.479210</td>\n      <td>24:51.9</td>\n      <td>677028</td>\n      <td>0.638639</td>\n      <td>-46.931638</td>\n      <td>1713.698169</td>\n      <td>49.726848</td>\n      <td>-114.798927</td>\n      <td>4/14/2021 12:24</td>\n      <td>2</td>\n    </tr>\n    <tr>\n      <th>3</th>\n      <td>3</td>\n      <td>25:00.3</td>\n      <td>-17.544945</td>\n      <td>24:52.0</td>\n      <td>677029</td>\n      <td>0.661536</td>\n      <td>-46.279095</td>\n      <td>1713.793497</td>\n      <td>49.726849</td>\n      <td>-114.798928</td>\n      <td>4/14/2021 12:24</td>\n      <td>3</td>\n    </tr>\n    <tr>\n      <th>4</th>\n      <td>4</td>\n      <td>25:00.4</td>\n      <td>-17.618170</td>\n      <td>24:52.1</td>\n      <td>677030</td>\n      <td>0.709778</td>\n      <td>-45.542828</td>\n      <td>1713.901479</td>\n      <td>49.726850</td>\n      <td>-114.798929</td>\n      <td>4/14/2021 12:24</td>\n      <td>4</td>\n    </tr>\n    <tr>\n      <th>...</th>\n      <td>...</td>\n      <td>...</td>\n      <td>...</td>\n      <td>...</td>\n      <td>...</td>\n      <td>...</td>\n      <td>...</td>\n      <td>...</td>\n      <td>...</td>\n      <td>...</td>\n      <td>...</td>\n      <td>...</td>\n    </tr>\n    <tr>\n      <th>5661</th>\n      <td>5661</td>\n      <td>34:34.2</td>\n      <td>-136.196198</td>\n      <td>34:25.9</td>\n      <td>682687</td>\n      <td>0.985247</td>\n      <td>7.438396</td>\n      <td>1725.821861</td>\n      <td>49.726587</td>\n      <td>-114.799174</td>\n      <td>4/14/2021 12:34</td>\n      <td>5661</td>\n    </tr>\n    <tr>\n      <th>5662</th>\n      <td>5662</td>\n      <td>34:34.3</td>\n      <td>-136.644287</td>\n      <td>34:26.0</td>\n      <td>682688</td>\n      <td>0.938363</td>\n      <td>7.981765</td>\n      <td>1725.954983</td>\n      <td>49.726587</td>\n      <td>-114.799172</td>\n      <td>4/14/2021 12:34</td>\n      <td>5662</td>\n    </tr>\n    <tr>\n      <th>5663</th>\n      <td>5663</td>\n      <td>34:34.4</td>\n      <td>-137.088745</td>\n      <td>34:26.1</td>\n      <td>682689</td>\n      <td>0.893205</td>\n      <td>8.530322</td>\n      <td>1726.086585</td>\n      <td>49.726586</td>\n      <td>-114.799170</td>\n      <td>4/14/2021 12:34</td>\n      <td>5663</td>\n    </tr>\n    <tr>\n      <th>5664</th>\n      <td>5664</td>\n      <td>34:34.5</td>\n      <td>-137.479034</td>\n      <td>34:26.2</td>\n      <td>682690</td>\n      <td>0.856316</td>\n      <td>9.090152</td>\n      <td>1726.211577</td>\n      <td>49.726586</td>\n      <td>-114.799168</td>\n      <td>4/14/2021 12:34</td>\n      <td>5664</td>\n    </tr>\n    <tr>\n      <th>5665</th>\n      <td>5665</td>\n      <td>34:34.6</td>\n      <td>-137.810867</td>\n      <td>34:26.3</td>\n      <td>682691</td>\n      <td>0.820646</td>\n      <td>9.650592</td>\n      <td>1726.342336</td>\n      <td>49.726585</td>\n      <td>-114.799166</td>\n      <td>4/14/2021 12:34</td>\n      <td>5665</td>\n    </tr>\n  </tbody>\n</table>\n<p>5666 rows × 12 columns</p>\n</div>"
     },
     "metadata": {},
     "execution_count": 3
    }
   ],
   "source": [
    "# data=pd.read_csv('..\\Datasets/HpState/shovel_39_data_fixed.csv')\n",
    "# raw_output=\n",
    "# data"
   ]
  },
  {
   "cell_type": "code",
   "execution_count": 122,
   "metadata": {},
   "outputs": [
    {
     "output_type": "execute_result",
     "data": {
      "text/plain": [
       "                       start                     end          state\n",
       "0    2021-04-14 06:24:55.746 2021-04-14 06:25:01.879   swing to dig\n",
       "1    2021-04-14 06:25:01.879 2021-04-14 06:25:14.578            dig\n",
       "2    2021-04-14 06:25:14.578 2021-04-14 06:25:24.578  swing to dump\n",
       "3    2021-04-14 06:25:24.578 2021-04-14 06:25:29.012           dump\n",
       "4    2021-04-14 06:25:29.012 2021-04-14 06:25:39.879   swing to dig\n",
       "...                      ...                     ...            ...\n",
       "1214 2021-04-14 12:34:28.237 2021-04-14 12:34:48.804           idle\n",
       "1215 2021-04-14 12:34:48.804 2021-04-14 12:35:32.503         propel\n",
       "1216 2021-04-14 12:35:32.503 2021-04-14 12:35:38.937   swing to dig\n",
       "1217 2021-04-14 12:35:38.937 2021-04-14 12:35:58.237       cleaning\n",
       "1218 2021-04-14 12:35:58.237 2021-04-14 12:40:27.000         propel\n",
       "\n",
       "[1219 rows x 3 columns]"
      ],
      "text/html": "<div>\n<style scoped>\n    .dataframe tbody tr th:only-of-type {\n        vertical-align: middle;\n    }\n\n    .dataframe tbody tr th {\n        vertical-align: top;\n    }\n\n    .dataframe thead th {\n        text-align: right;\n    }\n</style>\n<table border=\"1\" class=\"dataframe\">\n  <thead>\n    <tr style=\"text-align: right;\">\n      <th></th>\n      <th>start</th>\n      <th>end</th>\n      <th>state</th>\n    </tr>\n  </thead>\n  <tbody>\n    <tr>\n      <th>0</th>\n      <td>2021-04-14 06:24:55.746</td>\n      <td>2021-04-14 06:25:01.879</td>\n      <td>swing to dig</td>\n    </tr>\n    <tr>\n      <th>1</th>\n      <td>2021-04-14 06:25:01.879</td>\n      <td>2021-04-14 06:25:14.578</td>\n      <td>dig</td>\n    </tr>\n    <tr>\n      <th>2</th>\n      <td>2021-04-14 06:25:14.578</td>\n      <td>2021-04-14 06:25:24.578</td>\n      <td>swing to dump</td>\n    </tr>\n    <tr>\n      <th>3</th>\n      <td>2021-04-14 06:25:24.578</td>\n      <td>2021-04-14 06:25:29.012</td>\n      <td>dump</td>\n    </tr>\n    <tr>\n      <th>4</th>\n      <td>2021-04-14 06:25:29.012</td>\n      <td>2021-04-14 06:25:39.879</td>\n      <td>swing to dig</td>\n    </tr>\n    <tr>\n      <th>...</th>\n      <td>...</td>\n      <td>...</td>\n      <td>...</td>\n    </tr>\n    <tr>\n      <th>1214</th>\n      <td>2021-04-14 12:34:28.237</td>\n      <td>2021-04-14 12:34:48.804</td>\n      <td>idle</td>\n    </tr>\n    <tr>\n      <th>1215</th>\n      <td>2021-04-14 12:34:48.804</td>\n      <td>2021-04-14 12:35:32.503</td>\n      <td>propel</td>\n    </tr>\n    <tr>\n      <th>1216</th>\n      <td>2021-04-14 12:35:32.503</td>\n      <td>2021-04-14 12:35:38.937</td>\n      <td>swing to dig</td>\n    </tr>\n    <tr>\n      <th>1217</th>\n      <td>2021-04-14 12:35:38.937</td>\n      <td>2021-04-14 12:35:58.237</td>\n      <td>cleaning</td>\n    </tr>\n    <tr>\n      <th>1218</th>\n      <td>2021-04-14 12:35:58.237</td>\n      <td>2021-04-14 12:40:27.000</td>\n      <td>propel</td>\n    </tr>\n  </tbody>\n</table>\n<p>1219 rows × 3 columns</p>\n</div>"
     },
     "metadata": {},
     "execution_count": 122
    }
   ],
   "source": [
    "data_address=[\"..\\Datasets/HpState/data-1620089521423.csv\"]#,\"..\\Datasets/HpState/2021-06-03-5AM-8AM.csv\"]\n",
    "label_address=[\"..\\Datasets/HpState/output.xlsx\"]#,\"..\\Datasets/HpState/labels_2_updated.csv\"]\n",
    "#test=pd.read_excel('..\\Datasets/HpState/output.xlsx')\n",
    "temp_df=pd.read_csv(data_address[0])[[\"capture_time\",\"body\"]]\n",
    "temp_df\n",
    "\n",
    "labels_list=pd.read_excel(\"..\\Datasets/HpState/output (3).xls\",engine = 'xlrd')[[\"start\",\"end\",\"state\"]]\n",
    "\n",
    "labels_list\n",
    "\n",
    "# temp_dict={}\n",
    "# for key in [\"pitch\",\"roll\",\"latitude\",\"longitude\",\"heading\",\"height\",\"date_time\",\"parts\"]:\n",
    "#     temp_dict[key]=[]"
   ]
  },
  {
   "cell_type": "code",
   "execution_count": 125,
   "metadata": {},
   "outputs": [],
   "source": [
    "data_list=[]\n",
    "\n",
    "\n",
    "for i in range(len(data_address)):\n",
    "    temp_df=pd.read_csv(data_address[i])[[\"capture_time\",\"body\"]]\n",
    "    temp_df[\"parts\"]=i  #[i for j in range(temp_df.shape[0])]\n",
    "    data_list.append(temp_df)\n",
    "    \n",
    "data=pd.concat(data_list,axis=0)\n",
    "labels=labels_list.copy()\n",
    "data=data.reset_index(drop=True)\n",
    "labels=labels.reset_index(drop=True)"
   ]
  },
  {
   "cell_type": "code",
   "execution_count": 126,
   "metadata": {},
   "outputs": [
    {
     "output_type": "stream",
     "name": "stdout",
     "text": [
      "data collection from json:\n\n"
     ]
    },
    {
     "output_type": "execute_result",
     "data": {
      "text/plain": [
       "      capture_time               date_time    heading      roll      pitch  \\\n",
       "0          25:00.0 2021-04-14 12:25:07.914 -17.425865  0.516578 -48.354008   \n",
       "1          25:00.1 2021-04-14 12:25:08.011 -17.478781  0.584451 -47.634618   \n",
       "2          25:00.2 2021-04-14 12:25:08.109 -17.479210  0.638639 -46.931638   \n",
       "3          25:00.3 2021-04-14 12:25:08.207 -17.544945  0.661536 -46.279095   \n",
       "4          25:00.4 2021-04-14 12:25:08.319 -17.618170  0.709778 -45.542828   \n",
       "...            ...                     ...        ...       ...        ...   \n",
       "16173      52:20.6 2021-04-14 12:52:28.496 -39.155704  1.601719  10.100700   \n",
       "16174      52:20.7 2021-04-14 12:52:28.592 -39.167282  1.595665  10.100829   \n",
       "16175      52:20.8 2021-04-14 12:52:28.692 -39.176727  1.592128  10.087653   \n",
       "16176      52:20.9 2021-04-14 12:52:28.803 -39.188408 -5.375136  69.049701   \n",
       "16177      52:21.0 2021-04-14 12:52:28.887 -39.206615  1.574272  10.049159   \n",
       "\n",
       "            height   latitude   longitude  \n",
       "0      1713.492337  49.726845 -114.798926  \n",
       "1      1713.599990  49.726847 -114.798926  \n",
       "2      1713.698169  49.726848 -114.798927  \n",
       "3      1713.793497  49.726849 -114.798928  \n",
       "4      1713.901479  49.726850 -114.798929  \n",
       "...            ...        ...         ...  \n",
       "16173  1727.032807  49.726840 -114.799130  \n",
       "16174  1727.025626  49.726840 -114.799130  \n",
       "16175  1727.024810  49.726840 -114.799131  \n",
       "16176  1735.519134  49.726756 -114.799021  \n",
       "16177  1727.029337  49.726840 -114.799131  \n",
       "\n",
       "[16178 rows x 8 columns]"
      ],
      "text/html": "<div>\n<style scoped>\n    .dataframe tbody tr th:only-of-type {\n        vertical-align: middle;\n    }\n\n    .dataframe tbody tr th {\n        vertical-align: top;\n    }\n\n    .dataframe thead th {\n        text-align: right;\n    }\n</style>\n<table border=\"1\" class=\"dataframe\">\n  <thead>\n    <tr style=\"text-align: right;\">\n      <th></th>\n      <th>capture_time</th>\n      <th>date_time</th>\n      <th>heading</th>\n      <th>roll</th>\n      <th>pitch</th>\n      <th>height</th>\n      <th>latitude</th>\n      <th>longitude</th>\n    </tr>\n  </thead>\n  <tbody>\n    <tr>\n      <th>0</th>\n      <td>25:00.0</td>\n      <td>2021-04-14 12:25:07.914</td>\n      <td>-17.425865</td>\n      <td>0.516578</td>\n      <td>-48.354008</td>\n      <td>1713.492337</td>\n      <td>49.726845</td>\n      <td>-114.798926</td>\n    </tr>\n    <tr>\n      <th>1</th>\n      <td>25:00.1</td>\n      <td>2021-04-14 12:25:08.011</td>\n      <td>-17.478781</td>\n      <td>0.584451</td>\n      <td>-47.634618</td>\n      <td>1713.599990</td>\n      <td>49.726847</td>\n      <td>-114.798926</td>\n    </tr>\n    <tr>\n      <th>2</th>\n      <td>25:00.2</td>\n      <td>2021-04-14 12:25:08.109</td>\n      <td>-17.479210</td>\n      <td>0.638639</td>\n      <td>-46.931638</td>\n      <td>1713.698169</td>\n      <td>49.726848</td>\n      <td>-114.798927</td>\n    </tr>\n    <tr>\n      <th>3</th>\n      <td>25:00.3</td>\n      <td>2021-04-14 12:25:08.207</td>\n      <td>-17.544945</td>\n      <td>0.661536</td>\n      <td>-46.279095</td>\n      <td>1713.793497</td>\n      <td>49.726849</td>\n      <td>-114.798928</td>\n    </tr>\n    <tr>\n      <th>4</th>\n      <td>25:00.4</td>\n      <td>2021-04-14 12:25:08.319</td>\n      <td>-17.618170</td>\n      <td>0.709778</td>\n      <td>-45.542828</td>\n      <td>1713.901479</td>\n      <td>49.726850</td>\n      <td>-114.798929</td>\n    </tr>\n    <tr>\n      <th>...</th>\n      <td>...</td>\n      <td>...</td>\n      <td>...</td>\n      <td>...</td>\n      <td>...</td>\n      <td>...</td>\n      <td>...</td>\n      <td>...</td>\n    </tr>\n    <tr>\n      <th>16173</th>\n      <td>52:20.6</td>\n      <td>2021-04-14 12:52:28.496</td>\n      <td>-39.155704</td>\n      <td>1.601719</td>\n      <td>10.100700</td>\n      <td>1727.032807</td>\n      <td>49.726840</td>\n      <td>-114.799130</td>\n    </tr>\n    <tr>\n      <th>16174</th>\n      <td>52:20.7</td>\n      <td>2021-04-14 12:52:28.592</td>\n      <td>-39.167282</td>\n      <td>1.595665</td>\n      <td>10.100829</td>\n      <td>1727.025626</td>\n      <td>49.726840</td>\n      <td>-114.799130</td>\n    </tr>\n    <tr>\n      <th>16175</th>\n      <td>52:20.8</td>\n      <td>2021-04-14 12:52:28.692</td>\n      <td>-39.176727</td>\n      <td>1.592128</td>\n      <td>10.087653</td>\n      <td>1727.024810</td>\n      <td>49.726840</td>\n      <td>-114.799131</td>\n    </tr>\n    <tr>\n      <th>16176</th>\n      <td>52:20.9</td>\n      <td>2021-04-14 12:52:28.803</td>\n      <td>-39.188408</td>\n      <td>-5.375136</td>\n      <td>69.049701</td>\n      <td>1735.519134</td>\n      <td>49.726756</td>\n      <td>-114.799021</td>\n    </tr>\n    <tr>\n      <th>16177</th>\n      <td>52:21.0</td>\n      <td>2021-04-14 12:52:28.887</td>\n      <td>-39.206615</td>\n      <td>1.574272</td>\n      <td>10.049159</td>\n      <td>1727.029337</td>\n      <td>49.726840</td>\n      <td>-114.799131</td>\n    </tr>\n  </tbody>\n</table>\n<p>16178 rows × 8 columns</p>\n</div>"
     },
     "metadata": {},
     "execution_count": 126
    }
   ],
   "source": [
    "df = pd.DataFrame.from_records(data.body.apply(lambda x : json.loads(x)))\n",
    "df2 = pd.DataFrame.from_records(df.GET_PIN_POR_HP_BUCKET_STRUCT_TAG)\n",
    "df3 = pd.DataFrame.from_records(df2.crowd_orientation)\n",
    "df4 = pd.DataFrame.from_records(df2.point_of_interest_global)\n",
    "if \"update_interval_ms\" in df2.keys():\n",
    "    df_ = pd.concat([df2[['heading', 'date_time','update_interval_ms']], df3,df4], axis=1)\n",
    "else:\n",
    "    df_ = pd.concat([data.capture_time,df2[['date_time','heading']], df3,df4], axis=1)\n",
    "print(\"data collection from json:\\r\\n\")\n",
    "second_shift=[7,0]\n",
    "micro_second_shift=[879000,0]\n",
    "\n",
    "# data=sync_date_time(data,second_shift,micro_second_shift)\n",
    "# def sync_date_time(data,second_shift,micro_second_shift):\n",
    "#df=df_.copy()\n",
    "#df_list=[]\n",
    "#for i in df.parts.unique():\n",
    "#    temp_df=df[df.parts==i]\n",
    "df_[\"date_time\"]= pd.to_datetime(df_[\"date_time\"]).apply(lambda x:x+datetime.timedelta(seconds=7,microseconds=879000))\n",
    "#df_list.append(temp_df)\n",
    "#df_= pd.concat(df_list,axis=0).reset_index(drop=True)\n",
    "df_\n"
   ]
  },
  {
   "cell_type": "code",
   "execution_count": 143,
   "metadata": {},
   "outputs": [
    {
     "output_type": "execute_result",
     "data": {
      "text/plain": [
       "0        swing to dig\n",
       "1                 dig\n",
       "2       swing to dump\n",
       "3                dump\n",
       "4        swing to dig\n",
       "            ...      \n",
       "1214             idle\n",
       "1215           propel\n",
       "1216     swing to dig\n",
       "1217         cleaning\n",
       "1218           propel\n",
       "Name: state, Length: 1219, dtype: object"
      ]
     },
     "metadata": {},
     "execution_count": 143
    }
   ],
   "source": [
    "labels_list['state']"
   ]
  },
  {
   "cell_type": "code",
   "execution_count": 167,
   "metadata": {
    "tags": []
   },
   "outputs": [],
   "source": [
    "df=df_\n",
    "lbs=labels_list.copy()\n",
    "\n",
    "\n",
    "lbs[\"start\"] = lbs[\"start\"].apply(lambda x : pd.to_datetime(x)+datetime.timedelta(hours=6))  # WHY 6hours were added\n",
    "lbs[\"end\"] = lbs[\"end\"].apply(lambda x : pd.to_datetime(x)+datetime.timedelta(hours=6))\n",
    "\n",
    "temp=[]\n",
    "df.shape[0]\n",
    "for i in range(df.shape[0]):\n",
    "    temp_data=lbs[lbs[\"start\"]<=df.iloc[i][\"date_time\"]]\n",
    "    temp_data=temp_data[temp_data[\"end\"]>df.iloc[i][\"date_time\"]]\n",
    "    # temp=temp_data[\"state\"]\n",
    "#     t[i]=temp\n",
    "    if temp_data.shape[0]>0:\n",
    "        temp.append(temp_data.iloc[0][\"state\"]) # WHY ILOC[0]??????????????????\n",
    "    else:\n",
    "        temp.append(np.nan)\n",
    "df[\"state\"]=temp"
   ]
  },
  {
   "cell_type": "code",
   "execution_count": 168,
   "metadata": {},
   "outputs": [
    {
     "output_type": "execute_result",
     "data": {
      "text/plain": [
       "array(['dig', 'swing to dump', 'dump', 'swing to dig', 'cleaning',\n",
       "       'wait for truck', 'idle', 'other', 'propel'], dtype=object)"
      ]
     },
     "metadata": {},
     "execution_count": 168
    }
   ],
   "source": [
    "df[\"state\"].unique()"
   ]
  },
  {
   "cell_type": "code",
   "execution_count": 174,
   "metadata": {},
   "outputs": [],
   "source": [
    "df_.to_csv(\"..\\Datasets/HpState/sych_data_with_label.csv\")"
   ]
  },
  {
   "cell_type": "code",
   "execution_count": 175,
   "metadata": {},
   "outputs": [
    {
     "output_type": "execute_result",
     "data": {
      "text/plain": [
       "            heading      roll     pitch    height  latitude  longitude\n",
       "heading    1.000000 -0.096029  0.008396  0.019551 -0.091903   0.835234\n",
       "roll      -0.096029  1.000000 -0.335356 -0.281179  0.060792  -0.325707\n",
       "pitch      0.008396 -0.335356  1.000000  0.980463 -0.061202   0.106319\n",
       "height     0.019551 -0.281179  0.980463  1.000000 -0.031314   0.110608\n",
       "latitude  -0.091903  0.060792 -0.061202 -0.031314  1.000000  -0.270026\n",
       "longitude  0.835234 -0.325707  0.106319  0.110608 -0.270026   1.000000"
      ],
      "text/html": "<div>\n<style scoped>\n    .dataframe tbody tr th:only-of-type {\n        vertical-align: middle;\n    }\n\n    .dataframe tbody tr th {\n        vertical-align: top;\n    }\n\n    .dataframe thead th {\n        text-align: right;\n    }\n</style>\n<table border=\"1\" class=\"dataframe\">\n  <thead>\n    <tr style=\"text-align: right;\">\n      <th></th>\n      <th>heading</th>\n      <th>roll</th>\n      <th>pitch</th>\n      <th>height</th>\n      <th>latitude</th>\n      <th>longitude</th>\n    </tr>\n  </thead>\n  <tbody>\n    <tr>\n      <th>heading</th>\n      <td>1.000000</td>\n      <td>-0.096029</td>\n      <td>0.008396</td>\n      <td>0.019551</td>\n      <td>-0.091903</td>\n      <td>0.835234</td>\n    </tr>\n    <tr>\n      <th>roll</th>\n      <td>-0.096029</td>\n      <td>1.000000</td>\n      <td>-0.335356</td>\n      <td>-0.281179</td>\n      <td>0.060792</td>\n      <td>-0.325707</td>\n    </tr>\n    <tr>\n      <th>pitch</th>\n      <td>0.008396</td>\n      <td>-0.335356</td>\n      <td>1.000000</td>\n      <td>0.980463</td>\n      <td>-0.061202</td>\n      <td>0.106319</td>\n    </tr>\n    <tr>\n      <th>height</th>\n      <td>0.019551</td>\n      <td>-0.281179</td>\n      <td>0.980463</td>\n      <td>1.000000</td>\n      <td>-0.031314</td>\n      <td>0.110608</td>\n    </tr>\n    <tr>\n      <th>latitude</th>\n      <td>-0.091903</td>\n      <td>0.060792</td>\n      <td>-0.061202</td>\n      <td>-0.031314</td>\n      <td>1.000000</td>\n      <td>-0.270026</td>\n    </tr>\n    <tr>\n      <th>longitude</th>\n      <td>0.835234</td>\n      <td>-0.325707</td>\n      <td>0.106319</td>\n      <td>0.110608</td>\n      <td>-0.270026</td>\n      <td>1.000000</td>\n    </tr>\n  </tbody>\n</table>\n</div>"
     },
     "metadata": {},
     "execution_count": 175
    }
   ],
   "source": [
    "correlation=df_.corr()\n",
    "correlation"
   ]
  },
  {
   "cell_type": "code",
   "execution_count": 184,
   "metadata": {},
   "outputs": [],
   "source": [
    "# correlation/coefficient heading and longitude\n",
    "X=df_.iloc[:,2]\n",
    "Y=df_.iloc[:,-2]\n",
    "\n",
    "\n",
    "\n"
   ]
  },
  {
   "cell_type": "code",
   "execution_count": 186,
   "metadata": {},
   "outputs": [
    {
     "output_type": "error",
     "ename": "ValueError",
     "evalue": "Expected 2D array, got 1D array instead:\narray=[-17.42586517 -17.47878075 -17.4792099  ... -39.17672729 -39.1884079\n -39.20661545].\nReshape your data either using array.reshape(-1, 1) if your data has a single feature or array.reshape(1, -1) if it contains a single sample.",
     "traceback": [
      "\u001b[1;31m---------------------------------------------------------------------------\u001b[0m",
      "\u001b[1;31mValueError\u001b[0m                                Traceback (most recent call last)",
      "\u001b[1;32m<ipython-input-186-343a7e0dece5>\u001b[0m in \u001b[0;36m<module>\u001b[1;34m\u001b[0m\n\u001b[0;32m      1\u001b[0m \u001b[1;31m# regressoin longitude and heading\u001b[0m\u001b[1;33m\u001b[0m\u001b[1;33m\u001b[0m\u001b[1;33m\u001b[0m\u001b[0m\n\u001b[0;32m      2\u001b[0m \u001b[0mlr_heading_longitude\u001b[0m\u001b[1;33m=\u001b[0m\u001b[0mLinearRegression\u001b[0m\u001b[1;33m(\u001b[0m\u001b[1;33m)\u001b[0m\u001b[1;33m\u001b[0m\u001b[1;33m\u001b[0m\u001b[0m\n\u001b[1;32m----> 3\u001b[1;33m \u001b[0mlr_heading_longitude\u001b[0m\u001b[1;33m.\u001b[0m\u001b[0mfit\u001b[0m\u001b[1;33m(\u001b[0m\u001b[0mX\u001b[0m\u001b[1;33m,\u001b[0m\u001b[0mY\u001b[0m\u001b[1;33m)\u001b[0m\u001b[1;33m\u001b[0m\u001b[1;33m\u001b[0m\u001b[0m\n\u001b[0m",
      "\u001b[1;32m~\\AppData\\Local\\Programs\\Python\\Python39\\lib\\site-packages\\sklearn\\linear_model\\_base.py\u001b[0m in \u001b[0;36mfit\u001b[1;34m(self, X, y, sample_weight)\u001b[0m\n\u001b[0;32m    516\u001b[0m         \u001b[0maccept_sparse\u001b[0m \u001b[1;33m=\u001b[0m \u001b[1;32mFalse\u001b[0m \u001b[1;32mif\u001b[0m \u001b[0mself\u001b[0m\u001b[1;33m.\u001b[0m\u001b[0mpositive\u001b[0m \u001b[1;32melse\u001b[0m \u001b[1;33m[\u001b[0m\u001b[1;34m'csr'\u001b[0m\u001b[1;33m,\u001b[0m \u001b[1;34m'csc'\u001b[0m\u001b[1;33m,\u001b[0m \u001b[1;34m'coo'\u001b[0m\u001b[1;33m]\u001b[0m\u001b[1;33m\u001b[0m\u001b[1;33m\u001b[0m\u001b[0m\n\u001b[0;32m    517\u001b[0m \u001b[1;33m\u001b[0m\u001b[0m\n\u001b[1;32m--> 518\u001b[1;33m         X, y = self._validate_data(X, y, accept_sparse=accept_sparse,\n\u001b[0m\u001b[0;32m    519\u001b[0m                                    y_numeric=True, multi_output=True)\n\u001b[0;32m    520\u001b[0m \u001b[1;33m\u001b[0m\u001b[0m\n",
      "\u001b[1;32m~\\AppData\\Local\\Programs\\Python\\Python39\\lib\\site-packages\\sklearn\\base.py\u001b[0m in \u001b[0;36m_validate_data\u001b[1;34m(self, X, y, reset, validate_separately, **check_params)\u001b[0m\n\u001b[0;32m    431\u001b[0m                 \u001b[0my\u001b[0m \u001b[1;33m=\u001b[0m \u001b[0mcheck_array\u001b[0m\u001b[1;33m(\u001b[0m\u001b[0my\u001b[0m\u001b[1;33m,\u001b[0m \u001b[1;33m**\u001b[0m\u001b[0mcheck_y_params\u001b[0m\u001b[1;33m)\u001b[0m\u001b[1;33m\u001b[0m\u001b[1;33m\u001b[0m\u001b[0m\n\u001b[0;32m    432\u001b[0m             \u001b[1;32melse\u001b[0m\u001b[1;33m:\u001b[0m\u001b[1;33m\u001b[0m\u001b[1;33m\u001b[0m\u001b[0m\n\u001b[1;32m--> 433\u001b[1;33m                 \u001b[0mX\u001b[0m\u001b[1;33m,\u001b[0m \u001b[0my\u001b[0m \u001b[1;33m=\u001b[0m \u001b[0mcheck_X_y\u001b[0m\u001b[1;33m(\u001b[0m\u001b[0mX\u001b[0m\u001b[1;33m,\u001b[0m \u001b[0my\u001b[0m\u001b[1;33m,\u001b[0m \u001b[1;33m**\u001b[0m\u001b[0mcheck_params\u001b[0m\u001b[1;33m)\u001b[0m\u001b[1;33m\u001b[0m\u001b[1;33m\u001b[0m\u001b[0m\n\u001b[0m\u001b[0;32m    434\u001b[0m             \u001b[0mout\u001b[0m \u001b[1;33m=\u001b[0m \u001b[0mX\u001b[0m\u001b[1;33m,\u001b[0m \u001b[0my\u001b[0m\u001b[1;33m\u001b[0m\u001b[1;33m\u001b[0m\u001b[0m\n\u001b[0;32m    435\u001b[0m \u001b[1;33m\u001b[0m\u001b[0m\n",
      "\u001b[1;32m~\\AppData\\Local\\Programs\\Python\\Python39\\lib\\site-packages\\sklearn\\utils\\validation.py\u001b[0m in \u001b[0;36minner_f\u001b[1;34m(*args, **kwargs)\u001b[0m\n\u001b[0;32m     61\u001b[0m             \u001b[0mextra_args\u001b[0m \u001b[1;33m=\u001b[0m \u001b[0mlen\u001b[0m\u001b[1;33m(\u001b[0m\u001b[0margs\u001b[0m\u001b[1;33m)\u001b[0m \u001b[1;33m-\u001b[0m \u001b[0mlen\u001b[0m\u001b[1;33m(\u001b[0m\u001b[0mall_args\u001b[0m\u001b[1;33m)\u001b[0m\u001b[1;33m\u001b[0m\u001b[1;33m\u001b[0m\u001b[0m\n\u001b[0;32m     62\u001b[0m             \u001b[1;32mif\u001b[0m \u001b[0mextra_args\u001b[0m \u001b[1;33m<=\u001b[0m \u001b[1;36m0\u001b[0m\u001b[1;33m:\u001b[0m\u001b[1;33m\u001b[0m\u001b[1;33m\u001b[0m\u001b[0m\n\u001b[1;32m---> 63\u001b[1;33m                 \u001b[1;32mreturn\u001b[0m \u001b[0mf\u001b[0m\u001b[1;33m(\u001b[0m\u001b[1;33m*\u001b[0m\u001b[0margs\u001b[0m\u001b[1;33m,\u001b[0m \u001b[1;33m**\u001b[0m\u001b[0mkwargs\u001b[0m\u001b[1;33m)\u001b[0m\u001b[1;33m\u001b[0m\u001b[1;33m\u001b[0m\u001b[0m\n\u001b[0m\u001b[0;32m     64\u001b[0m \u001b[1;33m\u001b[0m\u001b[0m\n\u001b[0;32m     65\u001b[0m             \u001b[1;31m# extra_args > 0\u001b[0m\u001b[1;33m\u001b[0m\u001b[1;33m\u001b[0m\u001b[1;33m\u001b[0m\u001b[0m\n",
      "\u001b[1;32m~\\AppData\\Local\\Programs\\Python\\Python39\\lib\\site-packages\\sklearn\\utils\\validation.py\u001b[0m in \u001b[0;36mcheck_X_y\u001b[1;34m(X, y, accept_sparse, accept_large_sparse, dtype, order, copy, force_all_finite, ensure_2d, allow_nd, multi_output, ensure_min_samples, ensure_min_features, y_numeric, estimator)\u001b[0m\n\u001b[0;32m    869\u001b[0m         \u001b[1;32mraise\u001b[0m \u001b[0mValueError\u001b[0m\u001b[1;33m(\u001b[0m\u001b[1;34m\"y cannot be None\"\u001b[0m\u001b[1;33m)\u001b[0m\u001b[1;33m\u001b[0m\u001b[1;33m\u001b[0m\u001b[0m\n\u001b[0;32m    870\u001b[0m \u001b[1;33m\u001b[0m\u001b[0m\n\u001b[1;32m--> 871\u001b[1;33m     X = check_array(X, accept_sparse=accept_sparse,\n\u001b[0m\u001b[0;32m    872\u001b[0m                     \u001b[0maccept_large_sparse\u001b[0m\u001b[1;33m=\u001b[0m\u001b[0maccept_large_sparse\u001b[0m\u001b[1;33m,\u001b[0m\u001b[1;33m\u001b[0m\u001b[1;33m\u001b[0m\u001b[0m\n\u001b[0;32m    873\u001b[0m                     \u001b[0mdtype\u001b[0m\u001b[1;33m=\u001b[0m\u001b[0mdtype\u001b[0m\u001b[1;33m,\u001b[0m \u001b[0morder\u001b[0m\u001b[1;33m=\u001b[0m\u001b[0morder\u001b[0m\u001b[1;33m,\u001b[0m \u001b[0mcopy\u001b[0m\u001b[1;33m=\u001b[0m\u001b[0mcopy\u001b[0m\u001b[1;33m,\u001b[0m\u001b[1;33m\u001b[0m\u001b[1;33m\u001b[0m\u001b[0m\n",
      "\u001b[1;32m~\\AppData\\Local\\Programs\\Python\\Python39\\lib\\site-packages\\sklearn\\utils\\validation.py\u001b[0m in \u001b[0;36minner_f\u001b[1;34m(*args, **kwargs)\u001b[0m\n\u001b[0;32m     61\u001b[0m             \u001b[0mextra_args\u001b[0m \u001b[1;33m=\u001b[0m \u001b[0mlen\u001b[0m\u001b[1;33m(\u001b[0m\u001b[0margs\u001b[0m\u001b[1;33m)\u001b[0m \u001b[1;33m-\u001b[0m \u001b[0mlen\u001b[0m\u001b[1;33m(\u001b[0m\u001b[0mall_args\u001b[0m\u001b[1;33m)\u001b[0m\u001b[1;33m\u001b[0m\u001b[1;33m\u001b[0m\u001b[0m\n\u001b[0;32m     62\u001b[0m             \u001b[1;32mif\u001b[0m \u001b[0mextra_args\u001b[0m \u001b[1;33m<=\u001b[0m \u001b[1;36m0\u001b[0m\u001b[1;33m:\u001b[0m\u001b[1;33m\u001b[0m\u001b[1;33m\u001b[0m\u001b[0m\n\u001b[1;32m---> 63\u001b[1;33m                 \u001b[1;32mreturn\u001b[0m \u001b[0mf\u001b[0m\u001b[1;33m(\u001b[0m\u001b[1;33m*\u001b[0m\u001b[0margs\u001b[0m\u001b[1;33m,\u001b[0m \u001b[1;33m**\u001b[0m\u001b[0mkwargs\u001b[0m\u001b[1;33m)\u001b[0m\u001b[1;33m\u001b[0m\u001b[1;33m\u001b[0m\u001b[0m\n\u001b[0m\u001b[0;32m     64\u001b[0m \u001b[1;33m\u001b[0m\u001b[0m\n\u001b[0;32m     65\u001b[0m             \u001b[1;31m# extra_args > 0\u001b[0m\u001b[1;33m\u001b[0m\u001b[1;33m\u001b[0m\u001b[1;33m\u001b[0m\u001b[0m\n",
      "\u001b[1;32m~\\AppData\\Local\\Programs\\Python\\Python39\\lib\\site-packages\\sklearn\\utils\\validation.py\u001b[0m in \u001b[0;36mcheck_array\u001b[1;34m(array, accept_sparse, accept_large_sparse, dtype, order, copy, force_all_finite, ensure_2d, allow_nd, ensure_min_samples, ensure_min_features, estimator)\u001b[0m\n\u001b[0;32m    692\u001b[0m             \u001b[1;31m# If input is 1D raise error\u001b[0m\u001b[1;33m\u001b[0m\u001b[1;33m\u001b[0m\u001b[1;33m\u001b[0m\u001b[0m\n\u001b[0;32m    693\u001b[0m             \u001b[1;32mif\u001b[0m \u001b[0marray\u001b[0m\u001b[1;33m.\u001b[0m\u001b[0mndim\u001b[0m \u001b[1;33m==\u001b[0m \u001b[1;36m1\u001b[0m\u001b[1;33m:\u001b[0m\u001b[1;33m\u001b[0m\u001b[1;33m\u001b[0m\u001b[0m\n\u001b[1;32m--> 694\u001b[1;33m                 raise ValueError(\n\u001b[0m\u001b[0;32m    695\u001b[0m                     \u001b[1;34m\"Expected 2D array, got 1D array instead:\\narray={}.\\n\"\u001b[0m\u001b[1;33m\u001b[0m\u001b[1;33m\u001b[0m\u001b[0m\n\u001b[0;32m    696\u001b[0m                     \u001b[1;34m\"Reshape your data either using array.reshape(-1, 1) if \"\u001b[0m\u001b[1;33m\u001b[0m\u001b[1;33m\u001b[0m\u001b[0m\n",
      "\u001b[1;31mValueError\u001b[0m: Expected 2D array, got 1D array instead:\narray=[-17.42586517 -17.47878075 -17.4792099  ... -39.17672729 -39.1884079\n -39.20661545].\nReshape your data either using array.reshape(-1, 1) if your data has a single feature or array.reshape(1, -1) if it contains a single sample."
     ]
    }
   ],
   "source": [
    "# regressoin longitude and heading\n",
    "lr_heading_longitude=LinearRegression()\n",
    "lr_heading_longitude.fit(X,Y)"
   ]
  },
  {
   "cell_type": "code",
   "execution_count": 165,
   "metadata": {
    "tags": []
   },
   "outputs": [
    {
     "output_type": "stream",
     "name": "stdout",
     "text": [
      "0\n"
     ]
    }
   ],
   "source": [
    "\n",
    "# getattr( t[0],'state')\n",
    "# r=lbs[lbs[\"start\"]<=df.iloc[0][\"date_time\"]][\"state\"]\n",
    "# s=pd.Series(r)\n",
    "# list(s)\n",
    "\n",
    "\n",
    "# count=0\n",
    "# for x in range(len(t)):\n",
    "#     s=pd.Series(t[x])\n",
    "#     if len(list(s))>1:\n",
    "#         print(t[x])\n",
    "#         count+=1\n",
    "# print(count)\n"
   ]
  },
  {
   "cell_type": "code",
   "execution_count": 164,
   "metadata": {},
   "outputs": [
    {
     "output_type": "execute_result",
     "data": {
      "text/plain": [
       "1"
      ]
     },
     "metadata": {},
     "execution_count": 164
    }
   ],
   "source": [
    "s=pd.Series(t[x])\n",
    "len(list(s))"
   ]
  },
  {
   "cell_type": "code",
   "execution_count": null,
   "metadata": {},
   "outputs": [],
   "source": [
    "\n",
    "\n",
    "def get_numbers(x):\n",
    "    temp=pd.Series(x)\n",
    "    temp=temp[temp!=0]\n",
    "    return list(temp)\n",
    "\n",
    "# def extract_dataframe(data):\n",
    "#     df=data.copy()\n",
    "#     temp_dict={}\n",
    "#     part=df.iloc[0][\"parts\"]\n",
    "\n",
    "#     for key in [\"pitch\",\"roll\",\"latitude\",\"longitude\",\"heading\",\"height\",\"date_time\",\"parts\"]:\n",
    "#         temp_dict[key]=[]\n",
    "#     for i in range(df.shape[0]):\n",
    "#         for key in [\"pitch\",\"roll\",\"latitude\",\"longitude\",\"heading\",\"height\"]:\n",
    "#             temp=pd.Series(df.iloc[i][key])     #???????????????????????????????????????????????????????\n",
    "#             temp=temp[temp!=0]             \n",
    "#             temp_dict[key].extend(list(temp))\n",
    "#         l=len(get_numbers(df.iloc[i][\"heading\"]))\n",
    "#         update_interval=df.iloc[i][\"update_interval_ms\"]*1000\n",
    "#         temp_date_time=[]\n",
    "#         for j in range(l):\n",
    "#             temp_date_time.append(df.iloc[i][\"date_time\"]+datetime.timedelta(microseconds=int(update_interval*j)))\n",
    "#         temp_dict[\"date_time\"].extend(temp_date_time)\n",
    "#     temp_dict[\"parts\"]=[part for i in range(len(temp_dict[\"date_time\"]))]\n",
    "#     return pd.DataFrame(temp_dict)\n",
    "\n",
    "\n",
    "\n",
    "#print(\"transforming...\")\n",
    "#data=transform(data)\n",
    "#parts=data.parts.unique()\n",
    "# temp_df=[]\n",
    "# #    for i in parts:\n",
    "# df=data[data[\"parts\"]==0]\n",
    "# if type(df.iloc[0][\"pitch\"])==list:\n",
    "#     print(f\"transforming part 0\")\n",
    "#     temp_df.append(extract_dataframe(df[df[\"parts\"]==0]))\n",
    "# else:\n",
    "#     temp_df.append(df.drop([\"update_interval_ms\"],axis=1,errors=\"ignore\"))\n",
    "# return pd.concat(temp_df,axis=0).reset_index(drop=True).astype({\"pitch\":float,\"roll\":float,\"latitude\":float,\"longitude\":float,\"heading\":float,\"height\":float,\"parts\":float})\n",
    "\n",
    "\n",
    "\n",
    "# #data[\"id\"]=data.index\n",
    "# if denoising:\n",
    "#     print(\"denoising\")\n",
    "#     data=denoise0(data)\n",
    "# print(\"averaging\")\n",
    "# data=data.set_index(data[\"date_time\"])\n",
    "# def create_data_averaged_over_seconds(data):\n",
    "    # df=data.copy()\n",
    "    # parts=df[\"parts\"].unique()\n",
    "    # temp_list=[]\n",
    "    # for i in parts:\n",
    "    #     print(i)\n",
    "    #     temp_df=df[df[\"parts\"]==i].resample(\"0.5S\").mean()\n",
    "    #     temp_df=temp_df.reset_index()\n",
    "    #     temp_df=temp_df.fillna(method='ffill')\n",
    "    #     temp_list.append(temp_df)\n",
    "    # df=pd.concat(temp_list,axis=0)\n",
    "    # df=df.reset_index(drop=True)\n",
    "    # return df\n",
    "\n",
    "# data_averaged_over_seconds=create_data_averaged_over_seconds(data)\n",
    "# data_averaged_over_seconds.head()\n",
    "# # data=data.reset_index(drop=True)\n",
    "\n",
    "\n",
    "# def upsample(dataframe):\n",
    "#     dict_of_dataframes={}\n",
    "#     size=[]\n",
    "#     for key in dataframe[\"state\"].unique():\n",
    "#         if dataframe[dataframe[\"state\"]==key].shape[0]>0:\n",
    "#             dict_of_dataframes[key]=dataframe[dataframe[\"state\"]==key]\n",
    "#             size.append(dict_of_dataframes[key].shape[0])\n",
    "#     m=np.max(size)\n",
    "#     dataframes=[]\n",
    "#     for key in dict_of_dataframes.keys():\n",
    "#         if m/dict_of_dataframes[key].shape[0]<8:\n",
    "#             for i in range(int(m/dict_of_dataframes[key].shape[0])):\n",
    "#                  dataframes.append(dict_of_dataframes[key])\n",
    "#                  dataframes.append(dict_of_dataframes[key].sample(m%dict_of_dataframes[key].shape[0]))\n",
    "#     return pd.concat(dataframes,axis=0)\n",
    "\n",
    "# def apply_labels(data,labels,window_size=10,up=False):\n",
    "#     df=data.copy()\n",
    "#     lbs=labels.copy()\n",
    "#     lbs[\"start\"] = lbs[\"start\"].apply(lambda x : get_date_time(str(x)))\n",
    "#     lbs[\"end\"] = lbs[\"end\"].apply(lambda x : get_date_time(str(x)))\n",
    "#     temp=[]\n",
    "#     for i in tqdm.tqdm(range(df.shape[0])):\n",
    "#         temp_data=lbs[lbs[\"start\"]<=df.iloc[i][\"date_time\"]]\n",
    "#         temp_data=temp_data[temp_data[\"end\"]>df.iloc[i][\"date_time\"]]\n",
    "#         if temp_data.shape[0]>0:\n",
    "#             temp.append(temp_data.iloc[0][\"state\"]) \n",
    "#         else:\n",
    "#             temp.append(np.nan)\n",
    "#     df[\"state\"]=temp\n",
    "#     if up:\n",
    "#         return upsample(df)\n",
    "#     else:\n",
    "#         return df"
   ]
  }
 ]
}