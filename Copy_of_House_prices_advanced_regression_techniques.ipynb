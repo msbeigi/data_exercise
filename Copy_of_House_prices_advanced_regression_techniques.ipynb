{
  "nbformat": 4,
  "nbformat_minor": 0,
  "metadata": {
    "colab": {
      "name": "Copy of House-prices-advanced-regression-techniques.ipynb",
      "provenance": [],
      "collapsed_sections": [],
      "mount_file_id": "1Cc5np-mSSc7wSGTPoucHl4PjbxOoI8mA",
      "authorship_tag": "ABX9TyN60wBZX82tucncAl7n50LR",
      "include_colab_link": true
    },
    "kernelspec": {
      "name": "python3",
      "display_name": "Python 3"
    },
    "language_info": {
      "name": "python"
    }
  },
  "cells": [
    {
      "cell_type": "markdown",
      "metadata": {
        "id": "view-in-github",
        "colab_type": "text"
      },
      "source": [
        "<a href=\"https://colab.research.google.com/github/msbeigi/Data_experiment/blob/main/Copy_of_House_prices_advanced_regression_techniques.ipynb\" target=\"_parent\"><img src=\"https://colab.research.google.com/assets/colab-badge.svg\" alt=\"Open In Colab\"/></a>"
      ]
    },
    {
      "cell_type": "code",
      "execution_count": null,
      "metadata": {
        "id": "BIfKZaI7uRy9"
      },
      "outputs": [],
      "source": [
        "import numpy as np\n",
        "import pandas as pd\n",
        "from pandas.core.dtypes.missing import isna\n",
        "from sklearn.preprocessing import OneHotEncoder,LabelEncoder,StandardScaler\n",
        "from sklearn.model_selection import train_test_split\n",
        "from sklearn.tree import DecisionTreeRegressor\n",
        "from sklearn.metrics import mean_squared_error,mean_absolute_error\n",
        "import seaborn as sns\n",
        "import xgboost as xgb\n",
        "\n",
        "from pandas.core.series import Series\n"
      ]
    },
    {
      "cell_type": "code",
      "source": [
        "df_train=pd.read_csv('/content/drive/MyDrive/ML/Hand-on/House pricing - kaggle/train.csv')#('/content/train.csv')\n",
        "df_test=pd.read_csv('/content/drive/MyDrive/ML/Hand-on/House pricing - kaggle/test.csv')#('/content/test.csv')"
      ],
      "metadata": {
        "id": "Wtm-vf-eaDp9"
      },
      "execution_count": null,
      "outputs": []
    },
    {
      "cell_type": "code",
      "source": [
        "def data_prepration(df,istrain=True):\n",
        "  # fill zero\n",
        "\n",
        "  df['MasVnrType'].fillna('None',inplace=True)\n",
        "  df['PoolQC'].fillna('NA',inplace=True)\n",
        "  df['Alley'].fillna( 'NA',inplace=True)\n",
        "  df['BsmtQual'].fillna( 'NA',inplace=True)\n",
        "  df['BsmtCond'].fillna( 'NA',inplace=True)\n",
        "  df['BsmtExposure'].fillna( 'NA',inplace=True)\n",
        "  df['BsmtFinType1'].fillna( 'NA',inplace=True)\n",
        "  df['BsmtFinType2'].fillna( 'NA',inplace=True)\n",
        "  df['FireplaceQu'].fillna( 'NA',inplace=True)\n",
        "  df['GarageFinish'].fillna( 'NA',inplace=True)\n",
        "  df['GarageQual'].fillna( 'NA',inplace=True)\n",
        "  df['GarageType'].fillna( 'NA',inplace=True)\n",
        "  df['Fence'].fillna('NA',inplace=True)\n",
        "  df['MiscFeature'].fillna( 'NA',inplace=True)\n",
        "\n",
        "  # value set\n",
        "\n",
        "  df['GarageYrBlt'].fillna(df['YearBuilt'],inplace=True)\n",
        "  df['GarageCond'].fillna(df['GarageQual'],inplace=True)\n",
        "\n",
        "\n",
        "  # drop column\n",
        "  if istrain:\n",
        "    df.drop(df[ df['LotFrontage'].isna()].index,inplace=True)\n",
        "    df.drop(df[ df['MasVnrArea'].isna()].index,inplace=True)\n",
        "    df.drop(df[ df['Electrical'].isna()].index,inplace=True)\n",
        "    df['MSZoning'].dropna(axis=0,inplace=True)\n",
        "  \n",
        "\n",
        "  return df\n",
        "\n",
        "def get_categorical_cols(df):\n",
        "  all_cols=df.columns\n",
        "  num_cols=df._get_numeric_data().columns\n",
        "  cat_cols=list(set(all_cols)-set(num_cols))\n",
        "  return (cat_cols)\n",
        "  \n",
        "def onehot(df,cat_list):\n",
        "  df=pd.get_dummies(df,columns=cat_list)\n",
        "  return df\n",
        "\n",
        "def preprocess(df, cat_list,num_list, normalized=True):  \n",
        "  if normalized:\n",
        "    for col in num_list:\n",
        "        scaler = StandardScaler()\n",
        "        col_normalized = np.array(df[col]).reshape((-1,1))\n",
        "        df[col] = scaler.fit_transform(col_normalized)\n",
        "\n",
        "\n",
        "  return df\n",
        "\n",
        "def encode_dataframe(df):\n",
        "  cat_list=get_categorical_cols(df)\n",
        "  le=LabelEncoder()\n",
        "  for i in cat_list:\n",
        "    le.fit(df[i])\n",
        "    df[i]=le.fit_transform(df[i])\n",
        "  return df\n",
        "  \n",
        "def get_correl(df,rel):\n",
        "  t_pearson=df.corr()\n",
        "  ax = sns.heatmap(t_pearson,vmin=-1, vmax=1, center=0,\n",
        "              cmap=sns.diverging_palette(20, 220, n=200), square=True)\n",
        "  sns.set(rc = {'figure.figsize':(14,10)})\n",
        "  ax.set_xticklabels(ax.get_xticklabels(),rotation=45,horizontalalignment='right')\n",
        "  # print(t_pearson)\n",
        "  correl=dict(t_pearson['SalePrice'])\n",
        "  correl_list=[]\n",
        "  for i in correl:\n",
        "    if(np.abs(correl[i])>rel and i!='SalePrice'):\n",
        "      correl_list.append(i)\n",
        "  return correl_list\n"
      ],
      "metadata": {
        "id": "Q_LyzDx4mq0D"
      },
      "execution_count": null,
      "outputs": []
    },
    {
      "cell_type": "code",
      "source": [
        "cat_list_all=get_categorical_cols(X_train)\n",
        "num_list_all=list(X_train._get_numeric_data().columns)"
      ],
      "metadata": {
        "id": "R2zg2O14Rscl"
      },
      "execution_count": null,
      "outputs": []
    },
    {
      "cell_type": "code",
      "source": [
        "df_train_=data_prepration(df_train)\n",
        "df_test_=data_prepration(df_test,istrain=False)\n",
        "df_all=onehot(pd.concat([df_train_.iloc[:,:-1],df_test_],axis=0),cat_list_all)"
      ],
      "metadata": {
        "id": "DgsMY69DSdFJ"
      },
      "execution_count": null,
      "outputs": []
    },
    {
      "cell_type": "code",
      "source": [
        "y_train=df_train_.iloc[:,-1]\n",
        "X_train=df_all[df_all.Id<=1460]\n",
        "df_test_encoded=df_all[df_all.Id>1460]"
      ],
      "metadata": {
        "id": "8hM4M6C2HMav"
      },
      "execution_count": null,
      "outputs": []
    },
    {
      "cell_type": "code",
      "source": [
        "dt=df_train_.copy()\n",
        "df_encoded=encode_dataframe(dt)\n"
      ],
      "metadata": {
        "id": "Vo_s90pCMwLN"
      },
      "execution_count": null,
      "outputs": []
    },
    {
      "cell_type": "code",
      "source": [
        "\n",
        "correl_list=get_correl(df_encoded,0.4)"
      ],
      "metadata": {
        "colab": {
          "base_uri": "https://localhost:8080/",
          "height": 319
        },
        "id": "opZ-8RR8Jo-V",
        "outputId": "91e00ff9-c980-4aaf-e1d9-aa941b5302b7"
      },
      "execution_count": null,
      "outputs": [
        {
          "output_type": "display_data",
          "data": {
            "text/plain": [
              "<Figure size 432x288 with 2 Axes>"
            ],
            "image/png": "[encoded data removed]"
          },
          "metadata": {
            "needs_background": "light"
          }
        }
      ]
    },
    {
      "cell_type": "code",
      "source": [
        "cat_list=get_categorical_cols(X_train[correl_list])\n",
        "num_list=list(X_train[correl_list]._get_numeric_data().columns)"
      ],
      "metadata": {
        "id": "6Wnrme8NU6ad"
      },
      "execution_count": null,
      "outputs": []
    },
    {
      "cell_type": "code",
      "source": [
        "d_=onehot(df_train_[correl_list],cat_list)\n",
        "t=preprocess(d_, cat_list,num_list)\n",
        "t_=pd.concat([t,y_train],axis=1)\n"
      ],
      "metadata": {
        "id": "4QWJy3U0ZsGz"
      },
      "execution_count": null,
      "outputs": []
    },
    {
      "cell_type": "code",
      "source": [
        "y=t_.pop('SalePrice')\n",
        "X=t_\n"
      ],
      "metadata": {
        "id": "ZfBtPk2viiMU"
      },
      "execution_count": null,
      "outputs": []
    },
    {
      "cell_type": "code",
      "source": [
        "# train test\n",
        "X_train_normal,X_test_normal,y_train_normal,y_test_normal=train_test_split(X, y, test_size=0.3, random_state=42)"
      ],
      "metadata": {
        "id": "Or65zry9hZhA"
      },
      "execution_count": null,
      "outputs": []
    },
    {
      "cell_type": "code",
      "source": [
        "\n",
        "X_selected=X\n",
        "y_selected=y\n",
        "X_train_selected,X_test_selected,y_train_selected,y_test_selected=train_test_split(X_selected, y_selected, test_size=0.3, random_state=42)\n"
      ],
      "metadata": {
        "id": "Jr3K2E-6n3uv"
      },
      "execution_count": null,
      "outputs": []
    },
    {
      "cell_type": "code",
      "source": [
        "# t=preprocess(X_train, cat_list_all,num_list_all,normalized=True)\n",
        "# t_1=pd.concat([t,y_train],axis=1)\n",
        "# y_=t_1.pop('SalePrice')\n",
        "# X_=t_1.drop('Id',axis=1)\n",
        "X_=X_train.iloc[:,1:]\n",
        "y_=y_train\n",
        "# train test\n",
        "X_train_all,X_test_all,y_train_all,y_test_all=train_test_split(X_, y_, test_size=0.3, random_state=42)"
      ],
      "metadata": {
        "id": "FeVn-0oNQgPM"
      },
      "execution_count": null,
      "outputs": []
    },
    {
      "cell_type": "code",
      "source": [
        "# Define model selected featurs\n",
        "ndim = X_train_selected.shape[1]\n",
        "model = Sequential()\n",
        "model.add(Dense(500, input_dim=ndim, activation= 'relu'))\n",
        "model.add(Dense(100, activation= 'relu'))\n",
        "model.add(Dense(50, activation= 'relu'))\n",
        "model.add(Dense(1))"
      ],
      "metadata": {
        "id": "vDLNZXz-GmYf"
      },
      "execution_count": null,
      "outputs": []
    },
    {
      "cell_type": "code",
      "source": [
        "model.compile(loss= \"mean_squared_error\" , optimizer=\"adam\", metrics=[\"mean_squared_error\"])\n",
        "model.fit(X_train_selected.values, y_train_selected, epochs=20,verbose=False)"
      ],
      "metadata": {
        "colab": {
          "base_uri": "https://localhost:8080/"
        },
        "id": "FMYNvIkwpG-r",
        "outputId": "9d59580c-8721-4106-9d34-4ab575e88404"
      },
      "execution_count": null,
      "outputs": [
        {
          "output_type": "execute_result",
          "data": {
            "text/plain": [
              "<keras.callbacks.History at 0x7ff72bfe0190>"
            ]
          },
          "metadata": {},
          "execution_count": 144
        }
      ]
    },
    {
      "cell_type": "code",
      "source": [
        "# Define model all featurs\n",
        "ndim = X_train_all.shape[1]\n",
        "model_all = Sequential()\n",
        "model_all.add(Dense(295, input_dim=ndim, activation= 'relu'))\n",
        "model_all.add(Dense(210, activation= 'relu'))\n",
        "model_all.add(Dense(150, activation= 'relu'))\n",
        "model_all.add(Dense(100, activation= 'relu'))\n",
        "model_all.add(Dense(70, activation= 'relu'))\n",
        "model_all.add(Dense(50, activation= 'relu'))\n",
        "model_all.add(Dense(15, activation= 'relu'))\n",
        "model_all.add(Dense(1))"
      ],
      "metadata": {
        "id": "gy6ujUS1oxng"
      },
      "execution_count": null,
      "outputs": []
    },
    {
      "cell_type": "code",
      "source": [
        "model_all.compile(loss= \"mean_squared_error\" , optimizer=\"adam\", metrics=[\"mean_squared_error\"])\n",
        "model_all.fit(X_train_all, y_train_all, epochs=5,verbose=False,batch_size=15)"
      ],
      "metadata": {
        "colab": {
          "base_uri": "https://localhost:8080/"
        },
        "id": "t-SxKNTHPT_a",
        "outputId": "2ccfce92-33bd-48b9-afd7-5881f26832b9"
      },
      "execution_count": null,
      "outputs": [
        {
          "output_type": "execute_result",
          "data": {
            "text/plain": [
              "<keras.callbacks.History at 0x7ff72be5c7d0>"
            ]
          },
          "metadata": {},
          "execution_count": 146
        }
      ]
    },
    {
      "cell_type": "code",
      "source": [
        "# all features normalized\n",
        "\n",
        "pred_train= model_all.predict(X_train_all)\n",
        "print(np.sqrt(mean_squared_error(y_train_all,pred_train))/1000)\n",
        "pred= model_all.predict(X_test_all)\n",
        "print(np.sqrt(mean_squared_error(y_test_all,pred))/1000)\n",
        "\n",
        "# before : 29.34100789687578      46.2554274345088\n",
        "# 22.811279232242278     45.711891703869135\n",
        "# 26.884594949450612     47.716680132794735"
      ],
      "metadata": {
        "colab": {
          "base_uri": "https://localhost:8080/"
        },
        "id": "Nh-h_c8yaMJi",
        "outputId": "64d80f98-a12e-45a5-e037-4d2ed7321a5a"
      },
      "execution_count": null,
      "outputs": [
        {
          "output_type": "stream",
          "name": "stdout",
          "text": [
            "41.74839167568348\n",
            "69.82712018492028\n"
          ]
        }
      ]
    },
    {
      "cell_type": "code",
      "source": [
        "# selected features normalized\n",
        "pred_train_selected= model.predict(X_train_selected)\n",
        "print(np.sqrt(mean_squared_error(y_train_selected,pred_train_selected))/1000)\n",
        "pred_selected= model.predict(X_test_selected)\n",
        "print(np.sqrt(mean_squared_error(y_test_selected,pred_selected))/1000)"
      ],
      "metadata": {
        "colab": {
          "base_uri": "https://localhost:8080/"
        },
        "id": "1NpA7-OcpnCr",
        "outputId": "257a97c8-7536-417b-84ab-9bc5d5f0b135"
      },
      "execution_count": null,
      "outputs": [
        {
          "output_type": "stream",
          "name": "stdout",
          "text": [
            "31.896206074272037\n",
            "52.2589971817183\n"
          ]
        }
      ]
    },
    {
      "cell_type": "code",
      "source": [
        "### Keras Regressor"
      ],
      "metadata": {
        "id": "LSEr6lfklQ_g"
      },
      "execution_count": null,
      "outputs": []
    },
    {
      "cell_type": "code",
      "source": [
        "def baseline_model():\n",
        "\t# create model\n",
        "  n=X_.shape[1]\n",
        "  mdl = Sequential()\n",
        "  mdl.add(Dense(100, input_dim=n, kernel_initializer='normal', activation='relu'))\n",
        "  mdl.add(Dense(50, kernel_initializer='normal'))\n",
        "  mdl.add(Dense(1, kernel_initializer='normal'))\n",
        "\t# Compile model\n",
        "  mdl.compile(loss='mean_squared_error', optimizer='adam')\n",
        "  return mdl\n",
        "\n",
        "# evaluate model with standardized dataset\n",
        "estimators = []\n",
        "estimators.append(('standardize', StandardScaler()))\n",
        "estimators.append(('mlp', KerasRegressor(build_fn=baseline_model, epochs=20, batch_size=15, verbose=0)))\n",
        "pipeline = Pipeline(estimators)\n",
        "kfold = KFold(n_splits=10)\n",
        "results = cross_val_score(pipeline, X_, y_, cv=kfold)\n",
        "print(\"Standardized: %.2f (%.2f) MSE\" % (results.mean(), results.std()))"
      ],
      "metadata": {
        "colab": {
          "base_uri": "https://localhost:8080/"
        },
        "id": "KWTe2D1NrRgR",
        "outputId": "1f54f693-08a0-4133-8ee2-b11360f18561"
      },
      "execution_count": null,
      "outputs": [
        {
          "output_type": "stream",
          "name": "stderr",
          "text": [
            "/usr/local/lib/python3.7/dist-packages/ipykernel_launcher.py:15: DeprecationWarning: KerasRegressor is deprecated, use Sci-Keras (https://github.com/adriangb/scikeras) instead. See https://www.adriangb.com/scikeras/stable/migration.html for help migrating.\n",
            "  from ipykernel import kernelapp as app\n"
          ]
        },
        {
          "output_type": "stream",
          "name": "stdout",
          "text": [
            "Standardized: -3938488294.40 (1425192873.41) MSE\n"
          ]
        }
      ]
    },
    {
      "cell_type": "code",
      "source": [
        "# Gausian regressor"
      ],
      "metadata": {
        "id": "P7gSnAlVt6Cg"
      },
      "execution_count": null,
      "outputs": []
    },
    {
      "cell_type": "code",
      "source": [
        "gpr=GaussianProcessRegressor(kernel=(RBF()+DotProduct() ),alpha=0.1)\n",
        "gpr.fit(X_train_selected,y_train_selected)\n",
        "pred_gpr=gpr.predict(X_test_selected)\n",
        "# selected features normalized\n",
        "pred_gpr_train_selected= gpr.predict(X_train_selected)\n",
        "print(np.sqrt(mean_squared_error(y_train_selected,pred_gpr_train_selected))/1000)\n",
        "print(np.sqrt(mean_squared_error(y_test_selected,pred_gpr))/1000)"
      ],
      "metadata": {
        "colab": {
          "base_uri": "https://localhost:8080/"
        },
        "id": "QvedBLYH1i62",
        "outputId": "63b5c961-eca8-433f-cbdc-12f40d9005c4"
      },
      "execution_count": null,
      "outputs": [
        {
          "output_type": "stream",
          "name": "stderr",
          "text": [
            "/usr/local/lib/python3.7/dist-packages/sklearn/gaussian_process/kernels.py:427: ConvergenceWarning: The optimal value found for dimension 0 of parameter k1__length_scale is close to the specified lower bound 1e-05. Decreasing the bound and calling fit again may find a better value.\n",
            "  ConvergenceWarning,\n",
            "/usr/local/lib/python3.7/dist-packages/sklearn/gaussian_process/kernels.py:437: ConvergenceWarning: The optimal value found for dimension 0 of parameter k2__sigma_0 is close to the specified upper bound 100000.0. Increasing the bound and calling fit again may find a better value.\n",
            "  ConvergenceWarning,\n"
          ]
        },
        {
          "output_type": "stream",
          "name": "stdout",
          "text": [
            "2.8010782495711495\n",
            "47.27958914358158\n"
          ]
        }
      ]
    },
    {
      "cell_type": "code",
      "source": [
        "gpr_all=GaussianProcessRegressor(kernel=(RBF()+DotProduct() ),alpha=0.1)\n",
        "gpr_all.fit(X_train_all,y_train_all)\n",
        "pred_gpr_all=gpr_all.predict(X_test_all)\n",
        "# all features normalized\n",
        "pred_gpr_train_all= gpr_all.predict(X_train_all)\n",
        "print(np.sqrt(mean_squared_error(y_train_all,pred_gpr_train_all))/1000)\n",
        "print(np.sqrt(mean_squared_error(y_test_all,pred_gpr_all))/1000)"
      ],
      "metadata": {
        "colab": {
          "base_uri": "https://localhost:8080/"
        },
        "id": "ZDqTt9xd39kv",
        "outputId": "94e44d00-5b8c-4ad9-95f0-d738a9a5173c"
      },
      "execution_count": null,
      "outputs": [
        {
          "output_type": "stream",
          "name": "stderr",
          "text": [
            "/usr/local/lib/python3.7/dist-packages/sklearn/gaussian_process/kernels.py:427: ConvergenceWarning: The optimal value found for dimension 0 of parameter k1__length_scale is close to the specified lower bound 1e-05. Decreasing the bound and calling fit again may find a better value.\n",
            "  ConvergenceWarning,\n"
          ]
        },
        {
          "output_type": "stream",
          "name": "stdout",
          "text": [
            "1.8036160523963785\n",
            "44.70605006240005\n"
          ]
        }
      ]
    },
    {
      "cell_type": "code",
      "source": [
        "#### ExtraTree regressor"
      ],
      "metadata": {
        "id": "XnrBc4Xl6_K4"
      },
      "execution_count": null,
      "outputs": []
    },
    {
      "cell_type": "code",
      "source": [
        "etr=ExtraTreesRegressor(n_estimators=300,verbose=False,random_state=42)\n",
        "etr.fit(X_train_all,y_train_all)\n",
        "pred_etr_all=etr.predict(X_test_all)\n",
        "# all features normalized\n",
        "pred_etr_train_all= etr.predict(X_train_all)\n",
        "print(np.sqrt(mean_squared_error(y_train_all,pred_etr_train_all))/1000)\n",
        "print(np.sqrt(mean_squared_error(y_test_all,pred_etr_all))/1000)"
      ],
      "metadata": {
        "colab": {
          "base_uri": "https://localhost:8080/"
        },
        "id": "F344FiYG7s7j",
        "outputId": "091d4598-458b-4538-f082-61d13881aed8"
      },
      "execution_count": null,
      "outputs": [
        {
          "output_type": "stream",
          "name": "stdout",
          "text": [
            "0.0\n",
            "36.578362945853435\n"
          ]
        }
      ]
    },
    {
      "cell_type": "code",
      "source": [
        "etr.fit(X_train_selected,y_train_selected)\n",
        "pred_etr_selected=etr.predict(X_test_selected)\n",
        "# selected features normalized\n",
        "pred_etr_train_selected= etr.predict(X_train_selected)\n",
        "print(np.sqrt(mean_squared_error(y_train_selected,pred_etr_train_selected))/1000)\n",
        "print(np.sqrt(mean_squared_error(y_test_selected,pred_etr_selected))/1000)"
      ],
      "metadata": {
        "colab": {
          "base_uri": "https://localhost:8080/"
        },
        "id": "6cOyN46q8y8n",
        "outputId": "34e3f2ae-654a-4aa4-a4b9-3244890d7a62"
      },
      "execution_count": null,
      "outputs": [
        {
          "output_type": "stream",
          "name": "stdout",
          "text": [
            "0.5803674244006026\n",
            "33.930979719353466\n"
          ]
        }
      ]
    },
    {
      "cell_type": "code",
      "source": [
        "#### XGB"
      ],
      "metadata": {
        "id": "k292mjxa-Dkm"
      },
      "execution_count": null,
      "outputs": []
    },
    {
      "cell_type": "code",
      "source": [
        "xgbr = xgb.XGBRegressor(verbosity=0) \n",
        "xgbr.fit(X_train_all,y_train_all)\n",
        "pred_xgbr_all=xgbr.predict(X_test_all)\n",
        "# all features normalized\n",
        "pred_xgbr_train_all= xgbr.predict(X_train_all)\n",
        "print(np.sqrt(mean_squared_error(y_train_all,pred_xgbr_train_all))/1000)\n",
        "print(np.sqrt(mean_squared_error(y_test_all,pred_xgbr_all))/1000)"
      ],
      "metadata": {
        "colab": {
          "base_uri": "https://localhost:8080/"
        },
        "id": "G2cLwcZt_UJF",
        "outputId": "04e2299c-f0ef-48ef-f691-8b54fac1942a"
      },
      "execution_count": null,
      "outputs": [
        {
          "output_type": "stream",
          "name": "stdout",
          "text": [
            "12.194266907331853\n",
            "30.269906492426884\n"
          ]
        }
      ]
    },
    {
      "cell_type": "code",
      "source": [
        "#### xgbr selected"
      ],
      "metadata": {
        "id": "8A90lOluc9SO"
      },
      "execution_count": null,
      "outputs": []
    },
    {
      "cell_type": "code",
      "source": [
        "xgbr.fit(X_train_selected,y_train_selected)\n",
        "pred_xgbr_selected=xgbr.predict(X_test_selected)\n",
        "# selected features normalized\n",
        "pred_xgbr_train_selected= xgbr.predict(X_train_selected)\n",
        "print(np.sqrt(mean_squared_error(y_train_selected,pred_xgbr_train_selected))/1000)\n",
        "print(np.sqrt(mean_squared_error(y_test_selected,pred_xgbr_selected))/1000)"
      ],
      "metadata": {
        "colab": {
          "base_uri": "https://localhost:8080/"
        },
        "id": "sRiSUYyG_-tI",
        "outputId": "04caac7c-b953-4767-8620-ba5bdf56577c"
      },
      "execution_count": null,
      "outputs": [
        {
          "output_type": "stream",
          "name": "stdout",
          "text": [
            "14.59640562718175\n",
            "31.56448388538525\n"
          ]
        }
      ]
    },
    {
      "cell_type": "code",
      "source": [
        "#### *****************output*************8"
      ],
      "metadata": {
        "id": "pYpXSl82CwRK"
      },
      "execution_count": null,
      "outputs": []
    },
    {
      "cell_type": "code",
      "source": [
        "df_data_unsupervised=preprocess(df_test_encoded, cat_list_all,num_list_all)\n",
        "data_test_normalized=df_data_unsupervised.iloc[:,1:]"
      ],
      "metadata": {
        "id": "WsqOkpsvCz1d"
      },
      "execution_count": null,
      "outputs": []
    },
    {
      "cell_type": "code",
      "source": [
        "pred_xgbr_output=xgbr.predict(data_test_normalized)\n",
        "output=Series(pred_xgbr_output)\n",
        "df_output=pd.DataFrame(output,columns=['SalePrice'])\n",
        "df_total=pd.concat([df_test,df_output],axis=1)[['Id','SalePrice']]\n",
        "df_total.to_csv('output.csv')"
      ],
      "metadata": {
        "id": "kcwmkrVOBUX_"
      },
      "execution_count": null,
      "outputs": []
    },
    {
      "cell_type": "code",
      "source": [
        "#### LGBM"
      ],
      "metadata": {
        "id": "ysvJMz9f9XJT"
      },
      "execution_count": null,
      "outputs": []
    },
    {
      "cell_type": "code",
      "source": [
        "lgbm=LGBMRegressor(n_estimators=300)\n",
        "lgbm.fit(X_train_all,y_train_all)\n",
        "pred_lgbm_all=lgbm.predict(X_test_all)\n",
        "# all features normalized\n",
        "pred_lgbm_train_all= lgbm.predict(X_train_all)\n",
        "print(np.sqrt(mean_squared_error(y_train_all,pred_lgbm_train_all))/1000)\n",
        "print(np.sqrt(mean_squared_error(y_test_all,pred_lgbm_all))/1000)"
      ],
      "metadata": {
        "colab": {
          "base_uri": "https://localhost:8080/"
        },
        "id": "hOqQGak-9z4p",
        "outputId": "63e1b06d-81f0-4704-a20a-cb8fba5fd4b8"
      },
      "execution_count": null,
      "outputs": [
        {
          "output_type": "stream",
          "name": "stdout",
          "text": [
            "5.853453587802839\n",
            "34.980993610335595\n"
          ]
        }
      ]
    },
    {
      "cell_type": "code",
      "source": [
        "lgbm.fit(X_train_selected,y_train_selected)\n",
        "pred_lgbm_selected=lgbm.predict(X_test_selected)\n",
        "# selected features normalized\n",
        "pred_lgbm_train_selected= lgbm.predict(X_train_selected)\n",
        "print(np.sqrt(mean_squared_error(y_train_selected,pred_lgbm_train_selected))/1000)\n",
        "print(np.sqrt(mean_squared_error(y_test_selected,pred_lgbm_selected))/1000)"
      ],
      "metadata": {
        "colab": {
          "base_uri": "https://localhost:8080/"
        },
        "id": "ENPozXIP-4cX",
        "outputId": "3b3c5ff0-231a-4513-8d16-6fa3c0ec3eba"
      },
      "execution_count": null,
      "outputs": [
        {
          "output_type": "stream",
          "name": "stdout",
          "text": [
            "7.8111656895728805\n",
            "38.38382471084794\n"
          ]
        }
      ]
    }
  ]
}